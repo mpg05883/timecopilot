{
 "cells": [
  {
   "cell_type": "markdown",
   "id": "a11df4ab",
   "metadata": {},
   "source": [
    "Import packages."
   ]
  },
  {
   "cell_type": "code",
   "execution_count": 15,
   "id": "8f4f6566",
   "metadata": {},
   "outputs": [],
   "source": [
    "import pandas as pd\n",
    "\n",
    "from pathlib import Path"
   ]
  },
  {
   "cell_type": "markdown",
   "id": "d0ca6119",
   "metadata": {},
   "source": [
    "Read the aggregated results for the two configs."
   ]
  },
  {
   "cell_type": "code",
   "execution_count": 16,
   "id": "4d0694be",
   "metadata": {},
   "outputs": [
    {
     "name": "stdout",
     "output_type": "stream",
     "text": [
      "SLSQPEnsemble_4-models_opt-mse_1-windows results (shape: (96, 3))\n"
     ]
    },
    {
     "data": {
      "text/html": [
       "<div>\n",
       "<style scoped>\n",
       "    .dataframe tbody tr th:only-of-type {\n",
       "        vertical-align: middle;\n",
       "    }\n",
       "\n",
       "    .dataframe tbody tr th {\n",
       "        vertical-align: top;\n",
       "    }\n",
       "\n",
       "    .dataframe thead th {\n",
       "        text-align: right;\n",
       "    }\n",
       "</style>\n",
       "<table border=\"1\" class=\"dataframe\">\n",
       "  <thead>\n",
       "    <tr style=\"text-align: right;\">\n",
       "      <th></th>\n",
       "      <th>dataset</th>\n",
       "      <th>MASE</th>\n",
       "      <th>CRPS</th>\n",
       "    </tr>\n",
       "  </thead>\n",
       "  <tbody>\n",
       "    <tr>\n",
       "      <th>38</th>\n",
       "      <td>bitbrains_fast_storage/5T/long</td>\n",
       "      <td>0.912993</td>\n",
       "      <td>0.773663</td>\n",
       "    </tr>\n",
       "    <tr>\n",
       "      <th>37</th>\n",
       "      <td>bitbrains_fast_storage/5T/medium</td>\n",
       "      <td>0.999749</td>\n",
       "      <td>0.640577</td>\n",
       "    </tr>\n",
       "    <tr>\n",
       "      <th>36</th>\n",
       "      <td>bitbrains_fast_storage/5T/short</td>\n",
       "      <td>0.677921</td>\n",
       "      <td>0.389961</td>\n",
       "    </tr>\n",
       "    <tr>\n",
       "      <th>39</th>\n",
       "      <td>bitbrains_fast_storage/H/short</td>\n",
       "      <td>1.040435</td>\n",
       "      <td>0.649417</td>\n",
       "    </tr>\n",
       "    <tr>\n",
       "      <th>78</th>\n",
       "      <td>bitbrains_rnd/5T/long</td>\n",
       "      <td>3.358888</td>\n",
       "      <td>0.626335</td>\n",
       "    </tr>\n",
       "  </tbody>\n",
       "</table>\n",
       "</div>"
      ],
      "text/plain": [
       "                             dataset      MASE      CRPS\n",
       "38    bitbrains_fast_storage/5T/long  0.912993  0.773663\n",
       "37  bitbrains_fast_storage/5T/medium  0.999749  0.640577\n",
       "36   bitbrains_fast_storage/5T/short  0.677921  0.389961\n",
       "39    bitbrains_fast_storage/H/short  1.040435  0.649417\n",
       "78             bitbrains_rnd/5T/long  3.358888  0.626335"
      ]
     },
     "metadata": {},
     "output_type": "display_data"
    },
    {
     "name": "stdout",
     "output_type": "stream",
     "text": [
      "SLSQPEnsemble_4-models_opt-mae_1-windows results (shape: (96, 3))\n"
     ]
    },
    {
     "data": {
      "text/html": [
       "<div>\n",
       "<style scoped>\n",
       "    .dataframe tbody tr th:only-of-type {\n",
       "        vertical-align: middle;\n",
       "    }\n",
       "\n",
       "    .dataframe tbody tr th {\n",
       "        vertical-align: top;\n",
       "    }\n",
       "\n",
       "    .dataframe thead th {\n",
       "        text-align: right;\n",
       "    }\n",
       "</style>\n",
       "<table border=\"1\" class=\"dataframe\">\n",
       "  <thead>\n",
       "    <tr style=\"text-align: right;\">\n",
       "      <th></th>\n",
       "      <th>dataset</th>\n",
       "      <th>MASE</th>\n",
       "      <th>CRPS</th>\n",
       "    </tr>\n",
       "  </thead>\n",
       "  <tbody>\n",
       "    <tr>\n",
       "      <th>35</th>\n",
       "      <td>bitbrains_fast_storage/5T/long</td>\n",
       "      <td>0.912993</td>\n",
       "      <td>0.773663</td>\n",
       "    </tr>\n",
       "    <tr>\n",
       "      <th>34</th>\n",
       "      <td>bitbrains_fast_storage/5T/medium</td>\n",
       "      <td>0.999749</td>\n",
       "      <td>0.640577</td>\n",
       "    </tr>\n",
       "    <tr>\n",
       "      <th>36</th>\n",
       "      <td>bitbrains_fast_storage/5T/short</td>\n",
       "      <td>0.677921</td>\n",
       "      <td>0.389961</td>\n",
       "    </tr>\n",
       "    <tr>\n",
       "      <th>33</th>\n",
       "      <td>bitbrains_fast_storage/H/short</td>\n",
       "      <td>1.040435</td>\n",
       "      <td>0.649417</td>\n",
       "    </tr>\n",
       "    <tr>\n",
       "      <th>9</th>\n",
       "      <td>bitbrains_rnd/5T/long</td>\n",
       "      <td>3.358888</td>\n",
       "      <td>0.626335</td>\n",
       "    </tr>\n",
       "  </tbody>\n",
       "</table>\n",
       "</div>"
      ],
      "text/plain": [
       "                             dataset      MASE      CRPS\n",
       "35    bitbrains_fast_storage/5T/long  0.912993  0.773663\n",
       "34  bitbrains_fast_storage/5T/medium  0.999749  0.640577\n",
       "36   bitbrains_fast_storage/5T/short  0.677921  0.389961\n",
       "33    bitbrains_fast_storage/H/short  1.040435  0.649417\n",
       "9              bitbrains_rnd/5T/long  3.358888  0.626335"
      ]
     },
     "metadata": {},
     "output_type": "display_data"
    }
   ],
   "source": [
    "cfg1 = \"SLSQPEnsemble_4-models_opt-mse_1-windows\"\n",
    "cfg2 = \"SLSQPEnsemble_4-models_opt-mae_1-windows\"\n",
    "\n",
    "input_path = Path(\"../results/all_results\")\n",
    "\n",
    "rename_columns = {\n",
    "    \"eval_metrics/MASE[0.5]\": \"MASE\",\n",
    "    \"eval_metrics/mean_weighted_sum_quantile_loss\": \"CRPS\",\n",
    "}\n",
    "\n",
    "keep_columns = [\"dataset\", \"MASE\", \"CRPS\"]\n",
    "\n",
    "df1 = pd.read_csv(input_path / cfg1 / \"all_results.csv\")\n",
    "df1 = df1.rename(columns=rename_columns)\n",
    "df1 = df1[keep_columns].sort_values(by=\"dataset\")\n",
    "\n",
    "df2 = pd.read_csv(input_path / cfg2 / \"all_results.csv\")\n",
    "df2 = df2.rename(columns=rename_columns)\n",
    "df2 = df2[keep_columns].sort_values(by=\"dataset\")\n",
    "\n",
    "print(f\"{cfg1} results (shape: {df1.shape})\")\n",
    "display(df1.head())\n",
    "\n",
    "print(f\"{cfg2} results (shape: {df2.shape})\")\n",
    "display(df2.head())"
   ]
  },
  {
   "cell_type": "markdown",
   "id": "b845e807",
   "metadata": {},
   "source": [
    "Join the two DataFrames on the \"dataset\" column."
   ]
  },
  {
   "cell_type": "code",
   "execution_count": 17,
   "id": "b693ab5a",
   "metadata": {},
   "outputs": [
    {
     "name": "stdout",
     "output_type": "stream",
     "text": [
      "Merged results (shape: (96, 5))\n"
     ]
    },
    {
     "data": {
      "text/html": [
       "<div>\n",
       "<style scoped>\n",
       "    .dataframe tbody tr th:only-of-type {\n",
       "        vertical-align: middle;\n",
       "    }\n",
       "\n",
       "    .dataframe tbody tr th {\n",
       "        vertical-align: top;\n",
       "    }\n",
       "\n",
       "    .dataframe thead th {\n",
       "        text-align: right;\n",
       "    }\n",
       "</style>\n",
       "<table border=\"1\" class=\"dataframe\">\n",
       "  <thead>\n",
       "    <tr style=\"text-align: right;\">\n",
       "      <th></th>\n",
       "      <th>dataset</th>\n",
       "      <th>MASE_mse</th>\n",
       "      <th>CRPS_mse</th>\n",
       "      <th>MASE_mae</th>\n",
       "      <th>CRPS_mae</th>\n",
       "    </tr>\n",
       "  </thead>\n",
       "  <tbody>\n",
       "    <tr>\n",
       "      <th>0</th>\n",
       "      <td>bitbrains_fast_storage/5T/long</td>\n",
       "      <td>0.912993</td>\n",
       "      <td>0.773663</td>\n",
       "      <td>0.912993</td>\n",
       "      <td>0.773663</td>\n",
       "    </tr>\n",
       "    <tr>\n",
       "      <th>1</th>\n",
       "      <td>bitbrains_fast_storage/5T/medium</td>\n",
       "      <td>0.999749</td>\n",
       "      <td>0.640577</td>\n",
       "      <td>0.999749</td>\n",
       "      <td>0.640577</td>\n",
       "    </tr>\n",
       "    <tr>\n",
       "      <th>2</th>\n",
       "      <td>bitbrains_fast_storage/5T/short</td>\n",
       "      <td>0.677921</td>\n",
       "      <td>0.389961</td>\n",
       "      <td>0.677921</td>\n",
       "      <td>0.389961</td>\n",
       "    </tr>\n",
       "    <tr>\n",
       "      <th>3</th>\n",
       "      <td>bitbrains_fast_storage/H/short</td>\n",
       "      <td>1.040435</td>\n",
       "      <td>0.649417</td>\n",
       "      <td>1.040435</td>\n",
       "      <td>0.649417</td>\n",
       "    </tr>\n",
       "    <tr>\n",
       "      <th>4</th>\n",
       "      <td>bitbrains_rnd/5T/long</td>\n",
       "      <td>3.358888</td>\n",
       "      <td>0.626335</td>\n",
       "      <td>3.358888</td>\n",
       "      <td>0.626335</td>\n",
       "    </tr>\n",
       "  </tbody>\n",
       "</table>\n",
       "</div>"
      ],
      "text/plain": [
       "                            dataset  MASE_mse  CRPS_mse  MASE_mae  CRPS_mae\n",
       "0    bitbrains_fast_storage/5T/long  0.912993  0.773663  0.912993  0.773663\n",
       "1  bitbrains_fast_storage/5T/medium  0.999749  0.640577  0.999749  0.640577\n",
       "2   bitbrains_fast_storage/5T/short  0.677921  0.389961  0.677921  0.389961\n",
       "3    bitbrains_fast_storage/H/short  1.040435  0.649417  1.040435  0.649417\n",
       "4             bitbrains_rnd/5T/long  3.358888  0.626335  3.358888  0.626335"
      ]
     },
     "metadata": {},
     "output_type": "display_data"
    }
   ],
   "source": [
    "merged_df = pd.merge(df1, df2, on=\"dataset\", suffixes=(\"_mse\", \"_mae\"))\n",
    "print(f\"Merged results (shape: {merged_df.shape})\")\n",
    "display(merged_df.head())"
   ]
  },
  {
   "cell_type": "markdown",
   "id": "765a5e3c",
   "metadata": {},
   "source": [
    "Count the number of rows that have identical MASE or CPRS values."
   ]
  },
  {
   "cell_type": "code",
   "execution_count": 18,
   "id": "ed83d55b",
   "metadata": {},
   "outputs": [
    {
     "name": "stdout",
     "output_type": "stream",
     "text": [
      "MASE identical: 96\n",
      "CRPS identical: 96\n",
      "Both identical: 96\n",
      "Either identical: 96\n",
      "MASE identical: 100.00%\n",
      "CRPS identical: 100.00%\n",
      "Both identical: 100.00%\n",
      "Either identical: 100.00%\n"
     ]
    }
   ],
   "source": [
    "# Individual counts\n",
    "identical_mase = (merged_df[\"MASE_mse\"] == merged_df[\"MASE_mae\"]).sum()\n",
    "identical_crps = (merged_df[\"CRPS_mse\"] == merged_df[\"CRPS_mae\"]).sum()\n",
    "both_identical = (identical_mase & identical_crps).sum()\n",
    "\n",
    "# Either identical (using inclusion-exclusion principle)\n",
    "either_identical = identical_mase + identical_crps - both_identical\n",
    "\n",
    "print(f\"MASE identical: {identical_mase}\")\n",
    "print(f\"CRPS identical: {identical_crps}\")\n",
    "print(f\"Both identical: {both_identical}\")\n",
    "print(f\"Either identical: {either_identical}\")\n",
    "\n",
    "# Print the percentage of identical MASE and CRPS values.\n",
    "print(f\"MASE identical: {identical_mase / len(merged_df):.2%}\")\n",
    "print(f\"CRPS identical: {identical_crps / len(merged_df):.2%}\")\n",
    "print(f\"Both identical: {both_identical / len(merged_df):.2%}\")\n",
    "print(f\"Either identical: {either_identical / len(merged_df):.2%}\")"
   ]
  }
 ],
 "metadata": {
  "kernelspec": {
   "display_name": "gift",
   "language": "python",
   "name": "python3"
  },
  "language_info": {
   "codemirror_mode": {
    "name": "ipython",
    "version": 3
   },
   "file_extension": ".py",
   "mimetype": "text/x-python",
   "name": "python",
   "nbconvert_exporter": "python",
   "pygments_lexer": "ipython3",
   "version": "3.11.11"
  }
 },
 "nbformat": 4,
 "nbformat_minor": 5
}
